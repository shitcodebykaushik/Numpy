{
 "cells": [
  {
   "cell_type": "markdown",
   "metadata": {},
   "source": [
    "Pandas opeartions are single threaded by default . And it consume lot of the memory . chunking is the solution ."
   ]
  },
  {
   "cell_type": "code",
   "execution_count": 17,
   "metadata": {},
   "outputs": [
    {
     "name": "stdout",
     "output_type": "stream",
     "text": [
      "A      Ram\n",
      "B    Shyam\n",
      "C     Gyan\n",
      "dtype: object\n"
     ]
    }
   ],
   "source": [
    "import pandas as pd\n",
    "data =['Ram','Shyam','Gyan']\n",
    "series = pd.Series(data,index =['A','B','C'])   # here we have defined the custom index to the value\n",
    "print(series)"
   ]
  },
  {
   "cell_type": "markdown",
   "metadata": {},
   "source": [
    "Data frame which is the table with the rows and column . It consist of the multiple series . Here Name wealth Favorutie game is column/header  and rest data is rows\n",
    "- It is hetrogenous in nature and it have multiple column"
   ]
  },
  {
   "cell_type": "code",
   "execution_count": null,
   "metadata": {},
   "outputs": [
    {
     "name": "stdout",
     "output_type": "stream",
     "text": [
      "0    Kauhsik\n",
      "1       Aman\n",
      "2    Shubham\n",
      "Name: Name, dtype: object\n"
     ]
    }
   ],
   "source": [
    "\n",
    "data ={\n",
    "'Name':['Kauhsik','Aman','Shubham'],\n",
    "'Wealth':[5,6,20],\n",
    "'Fvourite game':['Crciket','Basket','Sucide'],\n",
    "}\n",
    "ok = pd.DataFrame(data)\n",
    "io =ok['Name']  # Method to access the column name .\n",
    "print(io)\n"
   ]
  },
  {
   "cell_type": "code",
   "execution_count": 20,
   "metadata": {},
   "outputs": [
    {
     "name": "stdout",
     "output_type": "stream",
     "text": [
      "1    Ram\n",
      "dtype: object\n"
     ]
    }
   ],
   "source": [
    "series = ['Ram']\n",
    "ok=pd.Series(series,index=[1])\n",
    "print(ok)"
   ]
  },
  {
   "cell_type": "code",
   "execution_count": null,
   "metadata": {},
   "outputs": [],
   "source": [
    "import pandas as pd\n",
    "\n",
    "def big_countries(world: pd.DataFrame) -> pd.DataFrame:\n",
    "    return world[(world[\"population\"] >= 25000000) | (world[\"area\"] >= 3000000)][[\"name\", \"population\", \"area\"]]\n",
    "\n",
    "\n",
    "def big_countries(world: pd.DataFrame) -> pd.DataFrame:\n",
    "    return world [(world[\"population\"]>=25000000) | (world [\"area\"]>=3000000)][[\"name\",\"population\",\"area\"]]"
   ]
  }
 ],
 "metadata": {
  "kernelspec": {
   "display_name": "venv",
   "language": "python",
   "name": "python3"
  },
  "language_info": {
   "codemirror_mode": {
    "name": "ipython",
    "version": 3
   },
   "file_extension": ".py",
   "mimetype": "text/x-python",
   "name": "python",
   "nbconvert_exporter": "python",
   "pygments_lexer": "ipython3",
   "version": "3.13.2"
  }
 },
 "nbformat": 4,
 "nbformat_minor": 2
}
