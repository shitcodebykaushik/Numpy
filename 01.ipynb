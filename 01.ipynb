{
 "cells": [
  {
   "cell_type": "code",
   "execution_count": 2,
   "metadata": {},
   "outputs": [
    {
     "name": "stdout",
     "output_type": "stream",
     "text": [
      "Hello, Jupyter in VS Code!\n"
     ]
    }
   ],
   "source": [
    "print(\"Hello, Jupyter in VS Code!\")"
   ]
  },
  {
   "cell_type": "code",
   "execution_count": 20,
   "metadata": {},
   "outputs": [
    {
     "name": "stdout",
     "output_type": "stream",
     "text": [
      "The 1D array value are: [1, 2, 3]\n",
      "The 2D array is: [[1, 2, 3], [5, 6, 7]]\n"
     ]
    }
   ],
   "source": [
    "import numpy as np \n",
    "array_1D=[1,2,3]\n",
    "print(\"The 1D array value are:\",array_1D)\n",
    "array_2D= ([[1,2,3],[5,6,7]])\n",
    "print(\"The 2D array is:\",array_2D)"
   ]
  },
  {
   "cell_type": "code",
   "execution_count": null,
   "metadata": {},
   "outputs": [],
   "source": [
    "# List vs numpy array \n",
    "import numpy as np \n",
    "import time\n",
    "py_list = [1,2,3]\n",
    "print(\"The python value are \",py_list*2)\n",
    "py_array = np.array([1,2,3])\n",
    "print(\"The value are \",py_array);\n",
    "start = time.time ()\n",
    "py_list = [i*2 for i in range (10000)]\n",
    "print(py_list)\n",
    "print(\"\\n List operation time: \",time.time()-start)\n",
    "\n",
    "start = time.time()\n",
    "py_array = np.arange(100000)*2\n",
    "print(\"\\n List operation time: \",time.time()-start)\n",
    "\n",
    "\n",
    "\n",
    "\n",
    "\n"
   ]
  },
  {
   "cell_type": "code",
   "execution_count": 42,
   "metadata": {},
   "outputs": [
    {
     "name": "stdout",
     "output_type": "stream",
     "text": [
      "[[0. 0. 0. 0.]\n",
      " [0. 0. 0. 0.]\n",
      " [0. 0. 0. 0.]]\n",
      "The valuse of the one is \n",
      " [[1. 1. 1.]\n",
      " [1. 1. 1.]]\n",
      "The randp values are  \n",
      " [[0.1835266  0.73430649 0.22220025]\n",
      " [0.36320169 0.50657818 0.37615492]]\n",
      "The value are [[7 7 7 7 7]\n",
      " [7 7 7 7 7]\n",
      " [7 7 7 7 7]]\n",
      "[ 0  2  4  6  8 10 12 14 16 18]\n"
     ]
    }
   ],
   "source": [
    "# Creating array from scractch \n",
    "zeros = np.zeros ((3,4))  #  Here we have 3 row with the 4 column .\n",
    "print(zeros)\n",
    "first = np.ones ((2,3))\n",
    "print(\"The valuse of the one is \\n\",first)\n",
    "cringe= np.random.random((2,3))\n",
    "print(\"The randp values are  \\n\",cringe)\n",
    "meow = np.full ((3,5),7)\n",
    "print(\"The value are\",meow)\n",
    "sequence = np.arange (0,20,2)  # It will skip the last number \n",
    "print(sequence)\n"
   ]
  },
  {
   "cell_type": "code",
   "execution_count": 51,
   "metadata": {},
   "outputs": [
    {
     "name": "stdout",
     "output_type": "stream",
     "text": [
      "Vector [1 2 3]\n",
      "[[1 2 3]\n",
      " [2 3 4]]\n",
      "The tensor are \n",
      " 3\n"
     ]
    }
   ],
   "source": [
    "# Vector and Matrices and the tensor \n",
    "Vector = np.array([1,2,3])\n",
    "print ('Vector',Vector)\n",
    "Matrix = np.array([[1,2,3],[2,3,4]])\n",
    "print (Matrix)\n",
    "Tensor = np.array ([[[1,2] , [3,4]],[[5,6],[7,8]]])  # This is 3D tensor \n",
    "print(\"The tensor are \\n\",Tensor.ndim)"
   ]
  },
  {
   "cell_type": "code",
   "execution_count": 54,
   "metadata": {},
   "outputs": [
    {
     "name": "stdout",
     "output_type": "stream",
     "text": [
      "Shape (2, 3)\n",
      "Dimensions 2\n",
      "DatatYPE int64\n",
      "Size 6\n"
     ]
    }
   ],
   "source": [
    "# Arrays properties \n",
    "import numpy as np\n",
    "array = np.array([[1,2,3],[4,5,6]])\n",
    "print(\"Shape\",array.shape)\n",
    "print(\"Dimensions\",array.ndim)\n",
    "print(\"DatatYPE\",array.dtype)\n",
    "print (\"Size\",array.size)"
   ]
  },
  {
   "cell_type": "code",
   "execution_count": 64,
   "metadata": {},
   "outputs": [
    {
     "name": "stdout",
     "output_type": "stream",
     "text": [
      "Orignal array is  [ 0  1  2  3  4  5  6  7  8  9 10 11]\n",
      "The reshaped value are \n",
      " [[ 0  1  2  3]\n",
      " [ 4  5  6  7]\n",
      " [ 8  9 10 11]]\n",
      "The value is flatterned [ 0  1  2  3  4  5  6  7  8  9 10 11]\n",
      "The value are  [ 0  1  2  3  4  5  6  7  8  9 10 11]\n",
      "The transpose value are [[ 0  4  8]\n",
      " [ 1  5  9]\n",
      " [ 2  6 10]\n",
      " [ 3  7 11]]\n"
     ]
    }
   ],
   "source": [
    "# Arrays reshaping \n",
    "arr = np.arange(12)\n",
    "print(\"Orignal array is \",arr)\n",
    "reshaped = arr.reshape ((3,4))\n",
    "print (\"The reshaped value are \\n\",reshaped)\n",
    "flatterned = arr.flatten()\n",
    "print (\"The value is flatterned\",flatterned)\n",
    "raveled = arr.ravel()\n",
    "print (\"The value are \",raveled);\n",
    "transpose = reshaped.T  # This calculation is complex \n",
    "print (\"The transpose value are\", transpose)"
   ]
  },
  {
   "cell_type": "code",
   "execution_count": null,
   "metadata": {},
   "outputs": [],
   "source": [
    "# Slicing \n"
   ]
  }
 ],
 "metadata": {
  "kernelspec": {
   "display_name": "venv",
   "language": "python",
   "name": "python3"
  },
  "language_info": {
   "codemirror_mode": {
    "name": "ipython",
    "version": 3
   },
   "file_extension": ".py",
   "mimetype": "text/x-python",
   "name": "python",
   "nbconvert_exporter": "python",
   "pygments_lexer": "ipython3",
   "version": "3.13.1"
  }
 },
 "nbformat": 4,
 "nbformat_minor": 2
}
